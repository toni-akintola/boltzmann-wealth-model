{
 "cells": [
  {
   "cell_type": "code",
   "execution_count": null,
   "metadata": {},
   "outputs": [],
   "source": [
    "import networkx as nx\n",
    "import numpy as np\n",
    "import random\n",
    "from modelpy_abm.main import AgentModel\n",
    "import jsonpickle\n",
    "\n",
    "\n",
    "def generateInitialData(model: AgentModel):\n",
    "    initial_data = {\"wealth\": 1}\n",
    "    return initial_data\n",
    "\n",
    "\n",
    "def generateTimestepData(model: AgentModel):\n",
    "    graph = model.get_graph()\n",
    "\n",
    "    for _node, node_data in graph.nodes(data=True):\n",
    "        if node_data[\"wealth\"] > 0:\n",
    "            other_agent = random.choice(list(graph.nodes.keys()))\n",
    "            if other_agent is not None:\n",
    "                graph.nodes[other_agent][\"wealth\"] += 1\n",
    "                node_data[\"wealth\"] -= 1\n",
    "\n",
    "    model.set_graph(graph)\n",
    "\n",
    "\n",
    "def constructModel() -> AgentModel:\n",
    "    model = AgentModel()\n",
    "    model.set_initial_data_function(generateInitialData)\n",
    "    model.set_timestep_function(generateTimestepData)\n",
    "    model.update_parameters({\"num_nodes\": 3})\n",
    "    return model"
   ]
  }
 ],
 "metadata": {
  "kernelspec": {
   "display_name": ".venv",
   "language": "python",
   "name": "python3"
  },
  "language_info": {
   "name": "python",
   "version": "3.12.4"
  }
 },
 "nbformat": 4,
 "nbformat_minor": 2
}
